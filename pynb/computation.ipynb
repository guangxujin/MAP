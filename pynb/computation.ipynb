{
 "cells": [
  {
   "cell_type": "markdown",
   "metadata": {},
   "source": [
    "## Computational source codes to run HDmics and generate figures\n",
    "\n"
   ]
  },
  {
   "cell_type": "markdown",
   "metadata": {},
   "source": [
    "The contents include\n",
    "\n",
    "#### 1. run HDmics on desktop/laptop \n",
    "\n",
    "#### 2. run HDmics on HPC\n",
    "\n",
    "#### 3. run HDmics on GPU\n",
    "\n",
    "#### 4. codes for Figure 2\n",
    "\n",
    "#### 5. codes for Figure 3\n",
    "\n",
    "#### 6. codes for Figure 4"
   ]
  },
  {
   "cell_type": "code",
   "execution_count": null,
   "metadata": {},
   "outputs": [],
   "source": []
  }
 ],
 "metadata": {
  "kernelspec": {
   "display_name": "Python 2",
   "language": "python",
   "name": "python2"
  },
  "language_info": {
   "codemirror_mode": {
    "name": "ipython",
    "version": 2
   },
   "file_extension": ".py",
   "mimetype": "text/x-python",
   "name": "python",
   "nbconvert_exporter": "python",
   "pygments_lexer": "ipython2",
   "version": "2.7.13"
  }
 },
 "nbformat": 4,
 "nbformat_minor": 2
}
